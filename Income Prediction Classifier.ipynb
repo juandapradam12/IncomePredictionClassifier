{
 "cells": [
  {
   "cell_type": "markdown",
   "metadata": {},
   "source": [
    "# Boosting\n",
    "\n",
    "In the present section a simple classifier and an adaptive boosting model will be built from scratch in order to extend the work done in `Default of Credit Card Clients`with Random Forests. \n",
    "\n",
    "We will build a classification that attempts to predict whether or not a particular census respondant has an income of more or less than $50,000.  \n",
    "\n",
    "The data is found on [**`Census Income Data`**](https://archive.ics.uci.edu/ml/datasets/census+income) from the [UCI Machine Learning Repository](https://archive.ics.uci.edu/ml/index.html).\n",
    "\n",
    "The simple Classifier we will review how to find the potential splits in data, the best splits according to the choosen entropy and creating binary predictions for a given split. \n",
    "\n",
    "The Adaptive Boosting algorithm creates weights, calculates epsilon and Alpha and updates theweights. This algorithm will be used to create predictions on Census Data.  "
   ]
  },
  {
   "cell_type": "code",
   "execution_count": 39,
   "metadata": {},
   "outputs": [],
   "source": [
    "import pandas as pd\n",
    "import numpy as np\n",
    "import matplotlib.pyplot as plt\n",
    "%matplotlib inline\n",
    "\n",
    "from sklearn.tree import DecisionTreeClassifier\n",
    "from sklearn.preprocessing import OneHotEncoder\n",
    "from sklearn.preprocessing import LabelEncoder\n",
    "from sklearn.model_selection import train_test_split\n",
    "from sklearn.metrics import classification_report\n",
    "from sklearn.ensemble import AdaBoostClassifier, RandomForestClassifier"
   ]
  },
  {
   "cell_type": "markdown",
   "metadata": {},
   "source": [
    "# Building a Simple Binary Tree Classifier\n",
    "\n",
    "The structure of this pseudo-code mimics the structure of the `sklearn` classifiers in that it creates \"fit\" and \"predict\" methods.  "
   ]
  },
  {
   "cell_type": "code",
   "execution_count": 3,
   "metadata": {},
   "outputs": [],
   "source": [
    "class Simple_Binary(object):\n",
    "    \n",
    "    def __init__(self):\n",
    "        \n",
    "        pass\n",
    "    \n",
    "    def fit(self, X,y):\n",
    "\n",
    "    \n",
    "    def predict(self, X):\n",
    "        \n",
    "        pass"
   ]
  },
  {
   "cell_type": "markdown",
   "metadata": {},
   "source": [
    "Analogously to `sklearn`, our `.fit()` and `.predict()` methods will be written as independent `simple_binary_tree_fit()` and `simple_binary_tree_predict()` functions."
   ]
  },
  {
   "cell_type": "code",
   "execution_count": 4,
   "metadata": {},
   "outputs": [],
   "source": [
    "def simple_binary_tree_fit(X,y):\n",
    "    \n",
    "    # \"best_split\" = (col_number, split_value, entropy)\n",
    "    best_split = (-1,-1,1)\n",
    "    \n",
    "    # loop through each column in X\n",
    "    for col_idx, col in enumerate(X.T):\n",
    "        \n",
    "        # Find potential split values within column using `find_splits(col)`\n",
    "        splits = find_splits(col) \n",
    "        \n",
    "        # For each split, calculate entropy\n",
    "        for s in splits:\n",
    "            ent = ent_from_split(col, s, y) \n",
    "            \n",
    "            # Check if calculated entropy is less than previous \"best\"\n",
    "            if ent < best_split[2]:\n",
    "                best_split = (col_idx, s, ent)\n",
    "    \n",
    "    # \"best split\" has been found.\n",
    "    # create \"left\" and \"right\" predictions for the best_split\n",
    "    # \"left\" predictions is for when `observation` <= `split_value`\n",
    "    # \"right\" prediction is for when `observation` > `split_value`\n",
    "    # Each prediction will either be 1 for \"True\" or 0 for \"False\"\n",
    "    \n",
    "    left_pred, right_pred = pred_from_split(X, y, *best_split[:2]) \n",
    "    \n",
    "    col_idx, split_value = best_split[:2]\n",
    "    \n",
    "    # return:\n",
    "    # - the index of the column to split on.\n",
    "    # - the value to split that column on\n",
    "    # - the prediction for rows with observations in that column less than or equal to the split\n",
    "    # - the prediction for rows with observations in that column greater than the split\n",
    "    \n",
    "    return col_idx, split_value, left_pred, right_pred"
   ]
  },
  {
   "cell_type": "code",
   "execution_count": 5,
   "metadata": {},
   "outputs": [],
   "source": [
    "def find_splits(col):\n",
    "    \n",
    "    # Sort list of unique values\n",
    "    srt = np.sort(np.unique(col))\n",
    "\n",
    "    # Shift values by inserting value at begining, also deleting final value\n",
    "    shift = np.delete(np.insert(srt,0,0), -1)\n",
    "    \n",
    "    # Take the difference divided by two of the sorted and shifted list, and remove initial placeholder\n",
    "    # Add to the sorted list with final element removed\n",
    "    splits = np.delete(srt,-1) + np.delete((srt-shift)/2,0)\n",
    "    \n",
    "    splits = np.array()\n",
    "    \n",
    "    return splits"
   ]
  },
  {
   "cell_type": "markdown",
   "metadata": {},
   "source": [
    "## Entropy for binary classification at binary split\n",
    "\n",
    "The entropy at a node containing only two classes is calculated by, \n",
    "\n",
    "$$Entropy(node) = -p_{class1}*log_2(p_{class1}) + -p_{class2}*log_2(p_{class2})$$  \n",
    "\n",
    "Suppose a node contains the observations [1,0,1,1]. Then,   \n",
    "\n",
    "$Entropy(node) = -p_{class1}*log_2(p_{class1}) + -p_{class2}*log_2(p_{class2})$  \n",
    "\n",
    "$\\ \\ \\ \\ \\ \\ \\ \\ \\ \\ \\ \\ \\ \\ \\ \\ \\ \\ \\ \\ \\ \\ \\ = -.75*log_2(.75) + -.25*log_2(.25)$\n",
    "\n",
    "$\\ \\ \\ \\ \\ \\ \\ \\ \\ \\ \\ \\ \\ \\ \\ \\ \\ \\ \\ \\ \\ \\ \\ = .311 + .5$\n",
    "\n",
    "$\\ \\ \\ \\ \\ \\ \\ \\ \\ \\ \\ \\ \\ \\ \\ \\ \\ \\ \\ \\ \\ \\ \\ \\approx .811$  \n",
    "\n",
    "\n",
    "This calculation is already programmed into the supplied `entropy()` function below.  "
   ]
  },
  {
   "cell_type": "code",
   "execution_count": 6,
   "metadata": {},
   "outputs": [
    {
     "name": "stdout",
     "output_type": "stream",
     "text": [
      "0.8112781244591328\n"
     ]
    }
   ],
   "source": [
    "def entropy(class1_n, class2_n):\n",
    "    \n",
    "    # If all of one category, log2(0) does not exist,\n",
    "    # and entropy = 0\n",
    "    if (class1_n == 0) or (class2_n == 0):\n",
    "        return 0\n",
    "\n",
    "    # Find total number of observations \n",
    "    total = class1_n + class2_n\n",
    "\n",
    "    # find proportion of both classes\n",
    "    class1_proprtion = class1_n/total\n",
    "    class2_proportion = class2_n/total\n",
    "\n",
    "    # implement entropy function\n",
    "    return  sum([-1 * prop * np.log2(prop)\n",
    "                 for prop in [class1_proprtion, class2_proportion] ])\n",
    "\n",
    "print(entropy(3,1))"
   ]
  },
  {
   "cell_type": "markdown",
   "metadata": {},
   "source": [
    "The entropy of a split is, \n",
    "$$Entropy(split) = p_{node1} * Entropy(node1)+ p_{node2}* Entropy(node2)$$  \n",
    "\n",
    "\n",
    "Where $p_{node}$ is the proportion of observations at that node\n",
    "\n",
    "Suppose:  \n",
    "Node 1 contains the observations - [1,0,1,1]  \n",
    "Node 2 contains the observations - [0,0,0,1,1,0]\n",
    "\n",
    "Then:  \n",
    "$Entropy(split) = p_{node1} * Entropy(node1)+ p_{node2}* Entropy(node2)$  \n",
    "\n",
    "$\\ \\ \\ \\ \\ \\ \\ \\ \\ \\ \\ \\ \\ \\ \\ \\ \\ \\ \\ \\ \\ \\ \\ = .4 *Entropy(node1) + .6 * Entropy(node2)$\n",
    "\n",
    "--------------------------------  \n",
    "\n",
    "For our purposes, the two classes in each node will be defined by:\n",
    "1. Observations with values less than or equal to the split value  \n",
    "2. Observations with values greater than the split value."
   ]
  },
  {
   "cell_type": "code",
   "execution_count": 7,
   "metadata": {},
   "outputs": [],
   "source": [
    "def ent_from_split(col, split_value, labels):\n",
    "    \n",
    "    # Define entropy function\n",
    "    def entropy(class1_n, class2_n):\n",
    "        \n",
    "        # If all of one category, log2(0) does not exist,\n",
    "        # and entropy = 0\n",
    "        if (class1_n == 0) or (class2_n == 0):\n",
    "            return 0\n",
    "        \n",
    "        # Find total number of observations\n",
    "        total = class1_n + class2_n\n",
    "        \n",
    "        # find proportion of both classes\n",
    "        class1_proprtion = class1_n/total\n",
    "        class2_proportion = class2_n/total\n",
    "        \n",
    "        # implement entropy function\n",
    "        return sum([-1 * prop * np.log2(prop)\n",
    "                    for prop in [class1_proprtion, class2_proportion] ])\n",
    "    \n",
    "    # Helper function to find number in each class at each node.\n",
    "    def node_classes(col, split_value, labels):\n",
    "        \n",
    "        # subset labels by observations that are <= / > the split value\n",
    "        le_node = labels[col <= split_value]\n",
    "        g_node = labels[col > split_value]\n",
    "        \n",
    "        # count members of each class at each node\n",
    "        # c1 corresponds to \"1's\"\n",
    "        # c2 corresponds to \"0's\n",
    "        le_c1 = np.count_nonzero(le_node)\n",
    "        le_c2 = len(le_node) - le_c1\n",
    "        g_c1 = np.count_nonzero(g_node)\n",
    "        g_c2 = len(g_node) - g_c1\n",
    "        \n",
    "        return le_c1, le_c2, g_c1, g_c2\n",
    "    \n",
    "    # Find number in each class at both nodes\n",
    "    le_c1, le_c2, g_c1, g_c2 = node_classes(col, split_value, labels)\n",
    "    \n",
    "    # calculate proportion of total at each node\n",
    "    total = len(col)\n",
    "    p_g = (g_c1 + g_c2) / total\n",
    "    p_le = (le_c1+ le_c2) / total\n",
    "    \n",
    "    # implement entropy calculation\n",
    "    return (p_le * entropy(le_c1, le_c2)) + (p_g * entropy(g_c1, g_c2))"
   ]
  },
  {
   "cell_type": "code",
   "execution_count": 8,
   "metadata": {},
   "outputs": [],
   "source": [
    "def pred_from_split(X, y, col_idx, split_value):\n",
    "    \n",
    "    def node_classes(col, split_value, labels):\n",
    "        \n",
    "        # subset labels by observations that are <= / > the split value\n",
    "        le_node = labels[col <= split_value]\n",
    "        g_node = labels[col > split_value]\n",
    "        \n",
    "        # count members of each class at each node\n",
    "        # c1 corresponds to \"1's\"\n",
    "        # c2 corresponds to \"0's\n",
    "        le_c1 = np.count_nonzero(le_node)\n",
    "        le_c2 = len(le_node) - le_c1\n",
    "        g_c1 = np.count_nonzero(g_node)\n",
    "        g_c2 = len(g_node) - g_c1\n",
    "        \n",
    "        return le_c1, le_c2, g_c1, g_c2\n",
    "    \n",
    "    # Return count of each class at each node using helper function\n",
    "    le_c1, le_c2, g_c1, g_c2 = node_classes(X[:,col_idx], split_value, y)\n",
    "    \n",
    "    def pred_for_node(cl1, cl2):\n",
    "        \n",
    "        # if more of class 1 than class 2, return True (1)\n",
    "        if cl1 > cl2: return True\n",
    "        # if more of class 2 than class 1, return False (0)\n",
    "        elif cl1 < cl2: return False\n",
    "        # if equal number, return None\n",
    "        else: return None\n",
    "        \n",
    "    # Create intial predictions\n",
    "    left = pred_for_node(le_c1,le_c2)\n",
    "    right = pred_for_node(g_c1, g_c2)\n",
    "\n",
    "    # Check predictions for ties\n",
    "    # Check to see if one of the predictions came back as \"None\"\n",
    "    if ((right == None) or (left == None)) and (right != left):\n",
    "        if left == None:\n",
    "            left = not right\n",
    "        else:\n",
    "            right = not left\n",
    "            \n",
    "    # Check to see if both predictions came back as \"None\"\n",
    "    if (right == None) and (left == None):\n",
    "        right = True; left = True\n",
    "        \n",
    "    # Convert predictions to integers, and return as tuple\n",
    "    return (int(left), int(right))"
   ]
  },
  {
   "cell_type": "code",
   "execution_count": 9,
   "metadata": {},
   "outputs": [],
   "source": [
    "def simple_binary_tree_predict(X, col_idx, split_value, left_pred, right_pred):\n",
    "\n",
    "    # take out column\n",
    "    col = X[:,col_idx]\n",
    "    \n",
    "    # If both predictions are same, return all that prediction\n",
    "    if left_pred == right_pred:\n",
    "        preds = np.ones(len(col))\n",
    "        preds *= int(left_pred)\n",
    "        \n",
    "    # if left_pred ( == 1) return 1's where col is <= split\n",
    "    elif left_pred:\n",
    "        preds = (col<= split_value)*1\n",
    "    # otherwise, 1's where col is > split\n",
    "    else:\n",
    "        preds = (col >split_value)*1\n",
    "\n",
    "    return preds"
   ]
  },
  {
   "cell_type": "markdown",
   "metadata": {},
   "source": [
    "At this point, we have a functioning binary-tree classifier that can be fit on data, and then given that fit, make predictions on out-of-sample data.  \n",
    "\n",
    "Our Adaptive Boosting algorithm's prediction for out of sample data will be,   \n",
    "\n",
    "$$f_{boost}(x_0) = sign(\\sum_{t=1}^T\\alpha_tf_t(X_0))$$  \n",
    "\n",
    "where alpha is\n",
    "$$\\alpha_t = \\frac12ln(\\frac{1-\\epsilon_t}{\\epsilon_t})$$  \n",
    "\n",
    "epsilon is,   \n",
    "\n",
    "$$\\epsilon_t = \\sum_{i=1}^nw_t(i)\\mathbb{1}\\{y_i\\ne f_t(x_i)\\}$$  \n",
    "\n",
    "and all weights starts at$\\frac1n$.   \n",
    "\n",
    "The weights are update by, \n",
    "$$w_{t+1}(i) = \\frac{\\hat{w}_{t+1}(i)}{\\sum_j\\hat{w}_{t+1}(j)}$$  \n",
    "\n",
    "where, \n",
    "$$\\hat{w}_{t+1}(i) = w_t(i)e^{-\\alpha_ty_if_t(x_i)}$$."
   ]
  },
  {
   "cell_type": "markdown",
   "metadata": {},
   "source": [
    "While we could use the `simple_binary_tree` functions created above, in the interest of speed, we will use sklearn's `DecisionTreeClassifier` as a the simple predictor to boost."
   ]
  },
  {
   "cell_type": "code",
   "execution_count": 11,
   "metadata": {},
   "outputs": [],
   "source": [
    "def simple_tree():\n",
    "    return DecisionTreeClassifier(criterion = 'entropy', max_depth= 1)"
   ]
  },
  {
   "cell_type": "markdown",
   "metadata": {},
   "source": [
    "We will try it in a sample dataset"
   ]
  },
  {
   "cell_type": "code",
   "execution_count": 12,
   "metadata": {},
   "outputs": [
    {
     "data": {
      "image/png": "[encoded data removed]",
      "text/plain": [
       "<Figure size 288x288 with 1 Axes>"
      ]
     },
     "metadata": {
      "needs_background": "light"
     },
     "output_type": "display_data"
    },
    {
     "name": "stdout",
     "output_type": "stream",
     "text": [
      "df:\n",
      "      x    y  classification\n",
      "0  0.5  3.0               1\n",
      "1  1.0  2.0               1\n",
      "2  3.0  0.5              -1\n",
      "3  2.0  3.0              -1\n",
      "4  3.0  4.0               1\n",
      "5  3.5  2.5              -1\n",
      "6  3.6  4.7               1\n",
      "7  4.0  4.2               1\n",
      "8  4.5  2.0              -1\n",
      "9  4.7  4.5              -1 \n",
      "\n",
      "threshold: 1.5 feature: 0\n",
      "threshold: 3.3499999046325684 feature: 1\n",
      "\n",
      "tree1 predictions on all elements: [1 1 0 0 0 0 0 0 0 0]\n",
      "tree2 predictions on all elements: [0 0 0 0 1 0 1 1 0 1]\n",
      "\n",
      "Entropy of different splits for observations 5-9\n",
      "Col 1, @ 3.35: 0.5509775004326937\n",
      "Col 0, # 4.25: 0.5509775004326937\n"
     ]
    }
   ],
   "source": [
    "# Example dataset\n",
    "pts = [[.5, 3,1],[1,2,1],[3,.5,-1],[2,3,-1],[3,4,1],\n",
    " [3.5,2.5,-1],[3.6,4.7,1],[4,4.2,1],[4.5,2,-1],[4.7,4.5,-1]]\n",
    "\n",
    "df = pd.DataFrame(pts, columns = ['x','y','classification'])\n",
    "\n",
    "# Plotting by category\n",
    "b = df[df.classification ==1]\n",
    "r = df[df.classification ==-1]\n",
    "plt.figure(figsize = (4,4))\n",
    "plt.scatter(b.x, b.y, color = 'b', marker=\"+\", s = 400)\n",
    "plt.scatter(r.x, r.y, color = 'r', marker = \"o\", s = 400)\n",
    "plt.title(\"Categories Denoted by Color/Shape\")\n",
    "plt.show()\n",
    "\n",
    "\n",
    "print(\"df:\\n\",df, \"\\n\")\n",
    "\n",
    "# split  X and y\n",
    "X = df[['x','y']]\n",
    "\n",
    "# Change from -1 and 1 to 0 and 1\n",
    "y = np.array([1 if x == 1 else 0 for x in df['classification']])\n",
    "\n",
    "### Split data in half\n",
    "X1 = X.iloc[:len(X.index)//2, :]\n",
    "X2 = X.iloc[len(X.index)//2:, :]\n",
    "\n",
    "y1 = y[:len(y)//2]\n",
    "y2 = y[len(X)//2:]\n",
    "\n",
    "\n",
    "# Fit classifier to both sets of data, save to dictionary:\n",
    "\n",
    "tree_dict = {}\n",
    "\n",
    "tree1 = simple_tree()\n",
    "tree1.fit(X1,y1)\n",
    "\n",
    "print(\"threshold:\", tree1.tree_.threshold[0], \"feature:\", tree1.tree_.feature[0])\n",
    "\n",
    "# made up alpha, for example\n",
    "alpha1 = .6\n",
    "tree_dict[1] = (tree1, alpha1)\n",
    "\n",
    "tree2 = simple_tree()\n",
    "tree2.fit(X2,y2)\n",
    "print(\"threshold:\", tree2.tree_.threshold[0], \"feature:\" ,tree2.tree_.feature[0])\n",
    "\n",
    "# made up alpha, again.\n",
    "alpha2 = .35\n",
    "\n",
    "tree_dict[2] = (tree2, alpha2)\n",
    "\n",
    "# Create predictions using trees stored in dictionary\n",
    "print(\"\\ntree1 predictions on all elements:\", tree_dict[1][0].predict(X))\n",
    "print(\"tree2 predictions on all elements:\", tree_dict[2][0].predict(X))\n",
    "\n",
    "# Showing Ent\n",
    "print(\"\\nEntropy of different splits for observations 5-9\")\n",
    "print(\"Col 1, @ 3.35:\", ent_from_split(X2.iloc[:,1].values,3.35, y2))\n",
    "print(\"Col 0, # 4.25:\", ent_from_split(X2.iloc[:,0].values, 4.25, y2))"
   ]
  },
  {
   "cell_type": "markdown",
   "metadata": {},
   "source": [
    "\n",
    "# Bootstrapping\n",
    "\n",
    "Taking a bootstrap sample in adaptive boosting requires selecting observation with pre-defined probabilities.  "
   ]
  },
  {
   "cell_type": "code",
   "execution_count": 13,
   "metadata": {},
   "outputs": [
    {
     "name": "stdout",
     "output_type": "stream",
     "text": [
      "selecting from: [0, 1, 2, 3, 4] \n",
      "\n",
      "Equal Weights:\n",
      " [1 2 2 1 3]\n",
      "\n",
      "Weights of [.9,.05,.03,.02,0]:\n",
      " [0 0 0 0 0]\n"
     ]
    }
   ],
   "source": [
    "select_from = list(range(5))\n",
    "print(\"selecting from:\", select_from, \"\\n\")\n",
    "\n",
    "### Implement 1/n weights (which is the np.random.choice default)\n",
    "### Also note:\n",
    "### replace = True (default, used for boot-strapping)\n",
    "### size = len(array) - This will be the sample size used in our algorithms.\n",
    "\n",
    "print(\"Equal Weights:\\n\",\n",
    "    np.random.choice(select_from,\n",
    "                size = len(select_from),\n",
    "                replace = True,\n",
    "                p = np.array([.2,.2,.2,.2,.2,])\n",
    "                )\n",
    ")\n",
    "\n",
    "### Now, using uneven weights\n",
    "\n",
    "print(\"\\nWeights of [.9,.05,.03,.02,0]:\\n\",\n",
    "    np.random.choice(select_from,\n",
    "                size = len(select_from),\n",
    "                p = np.array([.9,.05,.03,.02,0]))\n",
    ")"
   ]
  },
  {
   "cell_type": "markdown",
   "metadata": {},
   "source": [
    "# Building Adaptive Boosting"
   ]
  },
  {
   "cell_type": "code",
   "execution_count": 14,
   "metadata": {},
   "outputs": [],
   "source": [
    "def simple_adaboost_fit(X,y, n_estimators):\n",
    "    \n",
    "    def simple_tree():\n",
    "        return DecisionTreeClassifier(criterion = 'entropy', max_depth= 1)\n",
    "    \n",
    "    # Create default weights array where all are equal to 1/n\n",
    "    weights = default_weights(len(y)) \n",
    "    \n",
    "    est_dict = {}\n",
    "    for i in range(n_estimators):\n",
    "        \n",
    "        # Create bootstrap sample\n",
    "        bs_X, bs_y = boot_strap_selection(X, y, weights)\n",
    "        \n",
    "        mod = simple_tree()\n",
    "        mod.fit(bs_X, bs_y)\n",
    "        \n",
    "        # Predicting on all values of X, NOT boot-strap\n",
    "        preds = mod.predict(X)\n",
    "        \n",
    "        epsilon = calc_epsilon(y, preds, weights)\n",
    "        alpha = calc_alpha(epsilon) \n",
    "        \n",
    "        # Note that the i+1-th model will be keyed to the int i,\n",
    "        # and will store a tuple of the fit model and the alpha value\n",
    "        est_dict[i] = (mod, alpha)\n",
    "        \n",
    "        weights = update_weights(weights, alpha, y, preds) \n",
    "    \n",
    "    return est_dict "
   ]
  },
  {
   "cell_type": "markdown",
   "metadata": {},
   "source": [
    "Create the default list of weights, a numpy array of length n with each value equal to 1/n"
   ]
  },
  {
   "cell_type": "code",
   "execution_count": 15,
   "metadata": {},
   "outputs": [],
   "source": [
    "def default_weights(n):\n",
    "    return np.ones(n)*(1/n)"
   ]
  },
  {
   "cell_type": "markdown",
   "metadata": {},
   "source": [
    "The \"`boot_strap_selection`\" algorithm creates a boot-strap sample given the passed-in weights.  "
   ]
  },
  {
   "cell_type": "code",
   "execution_count": 16,
   "metadata": {},
   "outputs": [
    {
     "name": "stdout",
     "output_type": "stream",
     "text": [
      "(array([[1, 1],\n",
      "       [5, 5],\n",
      "       [2, 2],\n",
      "       [5, 5],\n",
      "       [3, 3]]), array([1, 1, 0, 1, 1]))\n"
     ]
    }
   ],
   "source": [
    "def boot_strap_selection(X, y, weights):\n",
    "    \n",
    "    # Take random sample of indicies, with replacement\n",
    "    bss_indicies = np.random.choice(range(len(y)), size = len(y), p = weights)\n",
    "    \n",
    "    # Subset arrays with indicies\n",
    "    return X[bss_indicies,:], y[bss_indicies]\n",
    "\n",
    "### Example of use\n",
    "X = np.array([[1,1],[2,2],[3,3],[4,4],[5,5]])\n",
    "y = np.array([1,0,1,0,1])\n",
    "weights = np.array([.35,.1,.1,.35,.1])\n",
    "\n",
    "print(boot_strap_selection(X,y, weights))    "
   ]
  },
  {
   "cell_type": "markdown",
   "metadata": {},
   "source": [
    "Calculating Epsilon\n",
    " \n",
    "$$\\epsilon_t = \\sum_{i=1}^nw_t(i)\\mathbb{1}\\{y_i\\ne f_t(x_i)\\}$$  "
   ]
  },
  {
   "cell_type": "code",
   "execution_count": 17,
   "metadata": {},
   "outputs": [],
   "source": [
    "def calc_epsilon(y_true, y_pred, weights):\n",
    "\n",
    "    # subset weights taking only values where y_true != y_pred\n",
    "    return weights[y_true != y_pred].sum()"
   ]
  },
  {
   "cell_type": "markdown",
   "metadata": {},
   "source": [
    "Calculating alpha.\n",
    "\n",
    "$$\\alpha_t = \\frac12ln(\\frac{1-\\epsilon_t}{\\epsilon_t})$$  "
   ]
  },
  {
   "cell_type": "code",
   "execution_count": 18,
   "metadata": {},
   "outputs": [],
   "source": [
    "def calc_alpha(epsilon):\n",
    "    \n",
    "    if epsilon == 0:\n",
    "        return np.inf\n",
    "    return .5 * np.log(((1-epsilon)/epsilon))"
   ]
  },
  {
   "cell_type": "markdown",
   "metadata": {},
   "source": [
    "Updating weights\n",
    "\n",
    "To update weights, \n",
    "$$w_{t+1}(i) = \\frac{\\hat{w}_{t+1}(i)}{\\sum_j\\hat{w}_{t+1}(j)}$$  \n",
    "\n",
    "where, \n",
    "$$\\hat{w}_{t+1}(i) = w_t(i)e^{-\\alpha_ty_if_t(x_i)}$$."
   ]
  },
  {
   "cell_type": "code",
   "execution_count": 19,
   "metadata": {},
   "outputs": [],
   "source": [
    "def update_weights(weights, alpha, y_true, y_pred):\n",
    "    \n",
    "    # helper function to convert target of 1's and 0's to 1's and -1's\n",
    "    def target_for_weight_update(y):\n",
    "        \n",
    "        toRet = y.copy()\n",
    "        toRet[toRet == 0] = -1\n",
    "        \n",
    "        return toRet\n",
    "    \n",
    "    # convert predictions and actual labels to 1's and -1's\n",
    "    y = target_for_weight_update(y_true)\n",
    "    pred = target_for_weight_update(y_pred)\n",
    "    \n",
    "    # implement weight update equation\n",
    "    weights = weights * np.e**(-alpha*y*pred)\n",
    "    \n",
    "    # normalize weights by dividing by sum of all weights\n",
    "    weights = weights / sum(weights)\n",
    "    \n",
    "    return weights"
   ]
  },
  {
   "cell_type": "markdown",
   "metadata": {},
   "source": [
    "`simple_adaboost_fit()` returns a dictionary where the keys are 0 through n-1 where n is the `n_estimators` from the function signature.  \n",
    "\n",
    "The values of the dictionaries are (model, alpha) where `model`is a `DecisionTreeClassifier`, and `alpha` is a float.  \n",
    "\n",
    "---\n",
    "\n",
    "Creating a Prediction from boosted trees. Our prediction will be, \n",
    "\n",
    "$$f_{boost}(x_0) = sign(\\sum_{t=1}^T\\alpha_tf_t(X_0))$$  "
   ]
  },
  {
   "cell_type": "code",
   "execution_count": 20,
   "metadata": {},
   "outputs": [],
   "source": [
    "def predict(X, est_dict):\n",
    "   \n",
    "    fin_preds = np.zeros(X.shape[0])\n",
    "    \n",
    "    for k in est_dict:\n",
    "        \n",
    "        preds = est_dict[k][0].predict(X)\n",
    "        preds[preds<1] = -1\n",
    "        \n",
    "        preds = preds *est_dict[k][1]\n",
    "        fin_preds += preds\n",
    "\n",
    "    fin_preds[fin_preds >= 0 ] = 1\n",
    "    fin_preds[fin_preds <0] = 0\n",
    "    \n",
    "    return fin_preds"
   ]
  },
  {
   "cell_type": "markdown",
   "metadata": {},
   "source": [
    "# Census Data\n",
    "\n",
    "Now we implement the code to the [**`Census Income Data`**](https://archive.ics.uci.edu/ml/datasets/census+income) from the [UCI Machine Learning Repository](https://archive.ics.uci.edu/ml/index.html).\n",
    "\n",
    "In particular, this classification attempts to predict whether or not a particular census respondant has an income of more or less than $50,000.  \n",
    "  \n",
    "## The Data"
   ]
  },
  {
   "cell_type": "code",
   "execution_count": 21,
   "metadata": {},
   "outputs": [
    {
     "data": {
      "text/html": [
       "<div>\n",
       "<style scoped>\n",
       "    .dataframe tbody tr th:only-of-type {\n",
       "        vertical-align: middle;\n",
       "    }\n",
       "\n",
       "    .dataframe tbody tr th {\n",
       "        vertical-align: top;\n",
       "    }\n",
       "\n",
       "    .dataframe thead th {\n",
       "        text-align: right;\n",
       "    }\n",
       "</style>\n",
       "<table border=\"1\" class=\"dataframe\">\n",
       "  <thead>\n",
       "    <tr style=\"text-align: right;\">\n",
       "      <th></th>\n",
       "      <th>age</th>\n",
       "      <th>workclass</th>\n",
       "      <th>fnlwgt</th>\n",
       "      <th>education</th>\n",
       "      <th>education-num</th>\n",
       "      <th>marital-status</th>\n",
       "      <th>occupation</th>\n",
       "      <th>relationship</th>\n",
       "      <th>race</th>\n",
       "      <th>sex</th>\n",
       "      <th>capital-gain</th>\n",
       "      <th>capital-loss</th>\n",
       "      <th>hours-per-week</th>\n",
       "      <th>native-country</th>\n",
       "      <th>income</th>\n",
       "    </tr>\n",
       "  </thead>\n",
       "  <tbody>\n",
       "    <tr>\n",
       "      <th>0</th>\n",
       "      <td>39</td>\n",
       "      <td>State-gov</td>\n",
       "      <td>77516</td>\n",
       "      <td>Bachelors</td>\n",
       "      <td>13</td>\n",
       "      <td>Never-married</td>\n",
       "      <td>Adm-clerical</td>\n",
       "      <td>Not-in-family</td>\n",
       "      <td>White</td>\n",
       "      <td>Male</td>\n",
       "      <td>2174</td>\n",
       "      <td>0</td>\n",
       "      <td>40</td>\n",
       "      <td>United-States</td>\n",
       "      <td>&lt;=50K</td>\n",
       "    </tr>\n",
       "    <tr>\n",
       "      <th>1</th>\n",
       "      <td>50</td>\n",
       "      <td>Self-emp-not-inc</td>\n",
       "      <td>83311</td>\n",
       "      <td>Bachelors</td>\n",
       "      <td>13</td>\n",
       "      <td>Married-civ-spouse</td>\n",
       "      <td>Exec-managerial</td>\n",
       "      <td>Husband</td>\n",
       "      <td>White</td>\n",
       "      <td>Male</td>\n",
       "      <td>0</td>\n",
       "      <td>0</td>\n",
       "      <td>13</td>\n",
       "      <td>United-States</td>\n",
       "      <td>&lt;=50K</td>\n",
       "    </tr>\n",
       "    <tr>\n",
       "      <th>2</th>\n",
       "      <td>38</td>\n",
       "      <td>Private</td>\n",
       "      <td>215646</td>\n",
       "      <td>HS-grad</td>\n",
       "      <td>9</td>\n",
       "      <td>Divorced</td>\n",
       "      <td>Handlers-cleaners</td>\n",
       "      <td>Not-in-family</td>\n",
       "      <td>White</td>\n",
       "      <td>Male</td>\n",
       "      <td>0</td>\n",
       "      <td>0</td>\n",
       "      <td>40</td>\n",
       "      <td>United-States</td>\n",
       "      <td>&lt;=50K</td>\n",
       "    </tr>\n",
       "    <tr>\n",
       "      <th>3</th>\n",
       "      <td>53</td>\n",
       "      <td>Private</td>\n",
       "      <td>234721</td>\n",
       "      <td>11th</td>\n",
       "      <td>7</td>\n",
       "      <td>Married-civ-spouse</td>\n",
       "      <td>Handlers-cleaners</td>\n",
       "      <td>Husband</td>\n",
       "      <td>Black</td>\n",
       "      <td>Male</td>\n",
       "      <td>0</td>\n",
       "      <td>0</td>\n",
       "      <td>40</td>\n",
       "      <td>United-States</td>\n",
       "      <td>&lt;=50K</td>\n",
       "    </tr>\n",
       "    <tr>\n",
       "      <th>4</th>\n",
       "      <td>28</td>\n",
       "      <td>Private</td>\n",
       "      <td>338409</td>\n",
       "      <td>Bachelors</td>\n",
       "      <td>13</td>\n",
       "      <td>Married-civ-spouse</td>\n",
       "      <td>Prof-specialty</td>\n",
       "      <td>Wife</td>\n",
       "      <td>Black</td>\n",
       "      <td>Female</td>\n",
       "      <td>0</td>\n",
       "      <td>0</td>\n",
       "      <td>40</td>\n",
       "      <td>Cuba</td>\n",
       "      <td>&lt;=50K</td>\n",
       "    </tr>\n",
       "  </tbody>\n",
       "</table>\n",
       "</div>"
      ],
      "text/plain": [
       "   age          workclass  fnlwgt   education  education-num  \\\n",
       "0   39          State-gov   77516   Bachelors             13   \n",
       "1   50   Self-emp-not-inc   83311   Bachelors             13   \n",
       "2   38            Private  215646     HS-grad              9   \n",
       "3   53            Private  234721        11th              7   \n",
       "4   28            Private  338409   Bachelors             13   \n",
       "\n",
       "        marital-status          occupation    relationship    race      sex  \\\n",
       "0        Never-married        Adm-clerical   Not-in-family   White     Male   \n",
       "1   Married-civ-spouse     Exec-managerial         Husband   White     Male   \n",
       "2             Divorced   Handlers-cleaners   Not-in-family   White     Male   \n",
       "3   Married-civ-spouse   Handlers-cleaners         Husband   Black     Male   \n",
       "4   Married-civ-spouse      Prof-specialty            Wife   Black   Female   \n",
       "\n",
       "   capital-gain  capital-loss  hours-per-week  native-country  income  \n",
       "0          2174             0              40   United-States   <=50K  \n",
       "1             0             0              13   United-States   <=50K  \n",
       "2             0             0              40   United-States   <=50K  \n",
       "3             0             0              40   United-States   <=50K  \n",
       "4             0             0              40            Cuba   <=50K  "
      ]
     },
     "execution_count": 21,
     "metadata": {},
     "output_type": "execute_result"
    }
   ],
   "source": [
    "col_names = [\n",
    "\"age\", \"workclass\", \"fnlwgt\", \"education\",\n",
    "\"education-num\", \"marital-status\", \"occupation\", \"relationship\",\n",
    "\"race\", \"sex\", \"capital-gain\", \"capital-loss\", \"hours-per-week\",\n",
    "\"native-country\", \"income\"\n",
    "]\n",
    "\n",
    "data_path = \"adult.data\"\n",
    "\n",
    "data = pd.read_csv(data_path, header = None, names = col_names)\n",
    "data.head()"
   ]
  },
  {
   "cell_type": "markdown",
   "metadata": {},
   "source": [
    "We take a subset of the data relevant for the prediction problem"
   ]
  },
  {
   "cell_type": "code",
   "execution_count": 22,
   "metadata": {},
   "outputs": [
    {
     "data": {
      "text/html": [
       "<div>\n",
       "<style scoped>\n",
       "    .dataframe tbody tr th:only-of-type {\n",
       "        vertical-align: middle;\n",
       "    }\n",
       "\n",
       "    .dataframe tbody tr th {\n",
       "        vertical-align: top;\n",
       "    }\n",
       "\n",
       "    .dataframe thead th {\n",
       "        text-align: right;\n",
       "    }\n",
       "</style>\n",
       "<table border=\"1\" class=\"dataframe\">\n",
       "  <thead>\n",
       "    <tr style=\"text-align: right;\">\n",
       "      <th></th>\n",
       "      <th>age</th>\n",
       "      <th>workclass</th>\n",
       "      <th>education-num</th>\n",
       "      <th>occupation</th>\n",
       "      <th>sex</th>\n",
       "      <th>hours-per-week</th>\n",
       "      <th>income</th>\n",
       "    </tr>\n",
       "  </thead>\n",
       "  <tbody>\n",
       "    <tr>\n",
       "      <th>0</th>\n",
       "      <td>39</td>\n",
       "      <td>State-gov</td>\n",
       "      <td>13</td>\n",
       "      <td>Adm-clerical</td>\n",
       "      <td>Male</td>\n",
       "      <td>40</td>\n",
       "      <td>&lt;=50K</td>\n",
       "    </tr>\n",
       "    <tr>\n",
       "      <th>1</th>\n",
       "      <td>50</td>\n",
       "      <td>Self-emp-not-inc</td>\n",
       "      <td>13</td>\n",
       "      <td>Exec-managerial</td>\n",
       "      <td>Male</td>\n",
       "      <td>13</td>\n",
       "      <td>&lt;=50K</td>\n",
       "    </tr>\n",
       "    <tr>\n",
       "      <th>2</th>\n",
       "      <td>38</td>\n",
       "      <td>Private</td>\n",
       "      <td>9</td>\n",
       "      <td>Handlers-cleaners</td>\n",
       "      <td>Male</td>\n",
       "      <td>40</td>\n",
       "      <td>&lt;=50K</td>\n",
       "    </tr>\n",
       "    <tr>\n",
       "      <th>3</th>\n",
       "      <td>53</td>\n",
       "      <td>Private</td>\n",
       "      <td>7</td>\n",
       "      <td>Handlers-cleaners</td>\n",
       "      <td>Male</td>\n",
       "      <td>40</td>\n",
       "      <td>&lt;=50K</td>\n",
       "    </tr>\n",
       "    <tr>\n",
       "      <th>4</th>\n",
       "      <td>28</td>\n",
       "      <td>Private</td>\n",
       "      <td>13</td>\n",
       "      <td>Prof-specialty</td>\n",
       "      <td>Female</td>\n",
       "      <td>40</td>\n",
       "      <td>&lt;=50K</td>\n",
       "    </tr>\n",
       "  </tbody>\n",
       "</table>\n",
       "</div>"
      ],
      "text/plain": [
       "   age          workclass  education-num          occupation      sex  \\\n",
       "0   39          State-gov             13        Adm-clerical     Male   \n",
       "1   50   Self-emp-not-inc             13     Exec-managerial     Male   \n",
       "2   38            Private              9   Handlers-cleaners     Male   \n",
       "3   53            Private              7   Handlers-cleaners     Male   \n",
       "4   28            Private             13      Prof-specialty   Female   \n",
       "\n",
       "   hours-per-week  income  \n",
       "0              40   <=50K  \n",
       "1              13   <=50K  \n",
       "2              40   <=50K  \n",
       "3              40   <=50K  \n",
       "4              40   <=50K  "
      ]
     },
     "execution_count": 22,
     "metadata": {},
     "output_type": "execute_result"
    }
   ],
   "source": [
    "cols = [\"age\", \"workclass\", \"education-num\", \"occupation\", \"sex\", \"hours-per-week\", \"income\"]\n",
    "data = data[cols]\n",
    "data.head()"
   ]
  },
  {
   "cell_type": "markdown",
   "metadata": {},
   "source": [
    "Take a look at the data"
   ]
  },
  {
   "cell_type": "code",
   "execution_count": 23,
   "metadata": {},
   "outputs": [
    {
     "data": {
      "text/html": [
       "<div>\n",
       "<style scoped>\n",
       "    .dataframe tbody tr th:only-of-type {\n",
       "        vertical-align: middle;\n",
       "    }\n",
       "\n",
       "    .dataframe tbody tr th {\n",
       "        vertical-align: top;\n",
       "    }\n",
       "\n",
       "    .dataframe thead th {\n",
       "        text-align: right;\n",
       "    }\n",
       "</style>\n",
       "<table border=\"1\" class=\"dataframe\">\n",
       "  <thead>\n",
       "    <tr style=\"text-align: right;\">\n",
       "      <th></th>\n",
       "      <th>age</th>\n",
       "      <th>workclass</th>\n",
       "      <th>education-num</th>\n",
       "      <th>occupation</th>\n",
       "      <th>sex</th>\n",
       "      <th>hours-per-week</th>\n",
       "      <th>income</th>\n",
       "    </tr>\n",
       "  </thead>\n",
       "  <tbody>\n",
       "    <tr>\n",
       "      <th>count</th>\n",
       "      <td>32561.000000</td>\n",
       "      <td>32561</td>\n",
       "      <td>32561.000000</td>\n",
       "      <td>32561</td>\n",
       "      <td>32561</td>\n",
       "      <td>32561.000000</td>\n",
       "      <td>32561</td>\n",
       "    </tr>\n",
       "    <tr>\n",
       "      <th>unique</th>\n",
       "      <td>NaN</td>\n",
       "      <td>9</td>\n",
       "      <td>NaN</td>\n",
       "      <td>15</td>\n",
       "      <td>2</td>\n",
       "      <td>NaN</td>\n",
       "      <td>2</td>\n",
       "    </tr>\n",
       "    <tr>\n",
       "      <th>top</th>\n",
       "      <td>NaN</td>\n",
       "      <td>Private</td>\n",
       "      <td>NaN</td>\n",
       "      <td>Prof-specialty</td>\n",
       "      <td>Male</td>\n",
       "      <td>NaN</td>\n",
       "      <td>&lt;=50K</td>\n",
       "    </tr>\n",
       "    <tr>\n",
       "      <th>freq</th>\n",
       "      <td>NaN</td>\n",
       "      <td>22696</td>\n",
       "      <td>NaN</td>\n",
       "      <td>4140</td>\n",
       "      <td>21790</td>\n",
       "      <td>NaN</td>\n",
       "      <td>24720</td>\n",
       "    </tr>\n",
       "    <tr>\n",
       "      <th>mean</th>\n",
       "      <td>38.581647</td>\n",
       "      <td>NaN</td>\n",
       "      <td>10.080679</td>\n",
       "      <td>NaN</td>\n",
       "      <td>NaN</td>\n",
       "      <td>40.437456</td>\n",
       "      <td>NaN</td>\n",
       "    </tr>\n",
       "    <tr>\n",
       "      <th>std</th>\n",
       "      <td>13.640433</td>\n",
       "      <td>NaN</td>\n",
       "      <td>2.572720</td>\n",
       "      <td>NaN</td>\n",
       "      <td>NaN</td>\n",
       "      <td>12.347429</td>\n",
       "      <td>NaN</td>\n",
       "    </tr>\n",
       "    <tr>\n",
       "      <th>min</th>\n",
       "      <td>17.000000</td>\n",
       "      <td>NaN</td>\n",
       "      <td>1.000000</td>\n",
       "      <td>NaN</td>\n",
       "      <td>NaN</td>\n",
       "      <td>1.000000</td>\n",
       "      <td>NaN</td>\n",
       "    </tr>\n",
       "    <tr>\n",
       "      <th>25%</th>\n",
       "      <td>28.000000</td>\n",
       "      <td>NaN</td>\n",
       "      <td>9.000000</td>\n",
       "      <td>NaN</td>\n",
       "      <td>NaN</td>\n",
       "      <td>40.000000</td>\n",
       "      <td>NaN</td>\n",
       "    </tr>\n",
       "    <tr>\n",
       "      <th>50%</th>\n",
       "      <td>37.000000</td>\n",
       "      <td>NaN</td>\n",
       "      <td>10.000000</td>\n",
       "      <td>NaN</td>\n",
       "      <td>NaN</td>\n",
       "      <td>40.000000</td>\n",
       "      <td>NaN</td>\n",
       "    </tr>\n",
       "    <tr>\n",
       "      <th>75%</th>\n",
       "      <td>48.000000</td>\n",
       "      <td>NaN</td>\n",
       "      <td>12.000000</td>\n",
       "      <td>NaN</td>\n",
       "      <td>NaN</td>\n",
       "      <td>45.000000</td>\n",
       "      <td>NaN</td>\n",
       "    </tr>\n",
       "    <tr>\n",
       "      <th>max</th>\n",
       "      <td>90.000000</td>\n",
       "      <td>NaN</td>\n",
       "      <td>16.000000</td>\n",
       "      <td>NaN</td>\n",
       "      <td>NaN</td>\n",
       "      <td>99.000000</td>\n",
       "      <td>NaN</td>\n",
       "    </tr>\n",
       "  </tbody>\n",
       "</table>\n",
       "</div>"
      ],
      "text/plain": [
       "                 age workclass  education-num       occupation    sex  \\\n",
       "count   32561.000000     32561   32561.000000            32561  32561   \n",
       "unique           NaN         9            NaN               15      2   \n",
       "top              NaN   Private            NaN   Prof-specialty   Male   \n",
       "freq             NaN     22696            NaN             4140  21790   \n",
       "mean       38.581647       NaN      10.080679              NaN    NaN   \n",
       "std        13.640433       NaN       2.572720              NaN    NaN   \n",
       "min        17.000000       NaN       1.000000              NaN    NaN   \n",
       "25%        28.000000       NaN       9.000000              NaN    NaN   \n",
       "50%        37.000000       NaN      10.000000              NaN    NaN   \n",
       "75%        48.000000       NaN      12.000000              NaN    NaN   \n",
       "max        90.000000       NaN      16.000000              NaN    NaN   \n",
       "\n",
       "        hours-per-week  income  \n",
       "count     32561.000000   32561  \n",
       "unique             NaN       2  \n",
       "top                NaN   <=50K  \n",
       "freq               NaN   24720  \n",
       "mean         40.437456     NaN  \n",
       "std          12.347429     NaN  \n",
       "min           1.000000     NaN  \n",
       "25%          40.000000     NaN  \n",
       "50%          40.000000     NaN  \n",
       "75%          45.000000     NaN  \n",
       "max          99.000000     NaN  "
      ]
     },
     "execution_count": 23,
     "metadata": {},
     "output_type": "execute_result"
    }
   ],
   "source": [
    "data.describe(include = 'all')"
   ]
  },
  {
   "cell_type": "markdown",
   "metadata": {},
   "source": [
    "## Exploratory Data Analysis\n",
    "\n",
    "Lets look at the distributions of the counts of individuals as a function of the features"
   ]
  },
  {
   "cell_type": "code",
   "execution_count": 24,
   "metadata": {},
   "outputs": [
    {
     "data": {
      "image/png": "[encoded data removed]",
      "text/plain": [
       "<Figure size 720x720 with 1 Axes>"
      ]
     },
     "metadata": {
      "needs_background": "light"
     },
     "output_type": "display_data"
    },
    {
     "data": {
      "image/png": "[encoded data removed]",
      "text/plain": [
       "<Figure size 432x288 with 1 Axes>"
      ]
     },
     "metadata": {
      "needs_background": "light"
     },
     "output_type": "display_data"
    },
    {
     "data": {
      "image/png": "[encoded data removed]",
      "text/plain": [
       "<Figure size 432x288 with 1 Axes>"
      ]
     },
     "metadata": {
      "needs_background": "light"
     },
     "output_type": "display_data"
    },
    {
     "data": {
      "image/png": "[encoded data removed]",
      "text/plain": [
       "<Figure size 432x288 with 1 Axes>"
      ]
     },
     "metadata": {
      "needs_background": "light"
     },
     "output_type": "display_data"
    },
    {
     "data": {
      "image/png": "[encoded data removed]",
      "text/plain": [
       "<Figure size 432x288 with 1 Axes>"
      ]
     },
     "metadata": {
      "needs_background": "light"
     },
     "output_type": "display_data"
    },
    {
     "data": {
      "image/png": "[encoded data removed]",
      "text/plain": [
       "<Figure size 432x288 with 1 Axes>"
      ]
     },
     "metadata": {
      "needs_background": "light"
     },
     "output_type": "display_data"
    },
    {
     "data": {
      "image/png": "[encoded data removed]",
      "text/plain": [
       "<Figure size 432x288 with 1 Axes>"
      ]
     },
     "metadata": {
      "needs_background": "light"
     },
     "output_type": "display_data"
    }
   ],
   "source": [
    "plt.figure(figsize=(10,10))\n",
    "\n",
    "for i, col in enumerate(data.drop(\"hours-per-week\", axis = 1)):\n",
    "    d = data[col].value_counts().sort_index()\n",
    "    plt.bar(d.index, d)\n",
    "    plt.xticks(rotation = 90)\n",
    "    plt.title(col)\n",
    "    plt.show()\n",
    "\n",
    "plt.hist(data['hours-per-week'], bins = 20);\n",
    "plt.title(\"Hours Per Week\");"
   ]
  },
  {
   "cell_type": "markdown",
   "metadata": {},
   "source": [
    "The target variable of income over/under $50k is unbalanced. \n",
    "\n",
    "---"
   ]
  },
  {
   "cell_type": "markdown",
   "metadata": {},
   "source": [
    "## Preprocessing\n",
    "\n",
    "The following cells  demonstrates the functions used in preprocessing, concluding with the division of data into a training and testing sets, that are then preprocessed.  \n",
    "\n",
    "### Dummy Variables\n",
    "\n",
    "In the creation of dummy variables, the most frequently occuring class will be dropped as a way of avoiding multicollinearity.  \n"
   ]
  },
  {
   "cell_type": "code",
   "execution_count": 26,
   "metadata": {},
   "outputs": [
    {
     "name": "stdout",
     "output_type": "stream",
     "text": [
      "All Value Counts:\n",
      " Private             22696\n",
      " Self-emp-not-inc     2541\n",
      " Local-gov            2093\n",
      " ?                    1836\n",
      " State-gov            1298\n",
      " Self-emp-inc         1116\n",
      " Federal-gov           960\n",
      " Without-pay            14\n",
      " Never-worked            7\n",
      "Name: workclass, dtype: int64\n",
      "\n",
      "Top category: 22696\n"
     ]
    }
   ],
   "source": [
    "val_count = data['workclass'].value_counts()\n",
    "print('All Value Counts:')\n",
    "print(val_count)\n",
    "\n",
    "top = val_count[0]\n",
    "print(\"\\nTop category:\", top)"
   ]
  },
  {
   "cell_type": "markdown",
   "metadata": {},
   "source": [
    "### One Hot Encoder  \n",
    "\n",
    "Dummies will be created using `sklearn`'s `OneHotEncoder`.  The following cell demonstrates fitting and transforming data using the One Hot Encoder."
   ]
  },
  {
   "cell_type": "code",
   "execution_count": 28,
   "metadata": {},
   "outputs": [
    {
     "name": "stdout",
     "output_type": "stream",
     "text": [
      "Initial DataFrame:\n",
      "    beg end\n",
      "500   b   z\n",
      "501   a   y\n",
      "502   c   y\n",
      "503   a   y\n",
      "504   c   z\n",
      "\n",
      "Test df\n",
      "   beg end\n",
      "56   c   y\n",
      "72   b   y\n"
     ]
    }
   ],
   "source": [
    "ex_df = pd.DataFrame(\n",
    "    np.array([['b', 'a', 'c', 'a', 'c',], [\"z\",\"y\",\"y\",\"y\",\"z\"]]).T,\n",
    "    columns = [\"beg\",\"end\"],\n",
    "    index = range(500,505))\n",
    "\n",
    "test_df = pd.DataFrame(\n",
    "    np.array([[\"c\",\"b\"],[\"y\",\"y\"]]).T,\n",
    "    columns = [\"beg\",\"end\"],\n",
    "    index = [56,72])\n",
    "\n",
    "print(\"Initial DataFrame:\")\n",
    "print(ex_df)\n",
    "\n",
    "print(\"\\nTest df\")\n",
    "print(test_df)"
   ]
  },
  {
   "cell_type": "code",
   "execution_count": 29,
   "metadata": {},
   "outputs": [
    {
     "name": "stdout",
     "output_type": "stream",
     "text": [
      "\n",
      "Transformed values\n",
      "[[0. 1. 0. 0. 1.]\n",
      " [1. 0. 0. 1. 0.]\n",
      " [0. 0. 1. 1. 0.]\n",
      " [1. 0. 0. 1. 0.]\n",
      " [0. 0. 1. 0. 1.]]\n",
      "\n",
      "Categories\n",
      "[array(['a', 'b', 'c'], dtype=object), array(['y', 'z'], dtype=object)]\n",
      "\n",
      "Final DataFrame\n",
      "     a    b    c    y    z\n",
      "0  0.0  1.0  0.0  0.0  1.0\n",
      "1  1.0  0.0  0.0  1.0  0.0\n",
      "2  0.0  0.0  1.0  1.0  0.0\n",
      "3  1.0  0.0  0.0  1.0  0.0\n",
      "4  0.0  0.0  1.0  0.0  1.0\n",
      "\n",
      "Transformed test df\n",
      "     a    b    c    y    z\n",
      "0  0.0  0.0  1.0  1.0  0.0\n",
      "1  0.0  1.0  0.0  1.0  0.0\n"
     ]
    }
   ],
   "source": [
    "# Instantiate OneHotEncoder\n",
    "ohe = OneHotEncoder(sparse = False)\n",
    "\n",
    "# Fitting OHE with the \"training\" data\n",
    "ohe.fit(ex_df)\n",
    "\n",
    "# Transforming the \"training\" dat\n",
    "tr_vals = ohe.transform(ex_df)\n",
    "\n",
    "print(\"\\nTransformed values\")\n",
    "print(tr_vals)\n",
    "\n",
    "print(\"\\nCategories\")\n",
    "print(ohe.categories_)\n",
    "\n",
    "# Creating column names from `.categories_`\n",
    "ohe_cats = np.concatenate(ohe.categories_)\n",
    "\n",
    "# In creation of new df. Note the use of np.concatenate\n",
    "final_df = pd.DataFrame(tr_vals, columns = ohe_cats)\n",
    "\n",
    "print(\"\\nFinal DataFrame\")\n",
    "print(final_df)\n",
    "\n",
    "# Putting everything together to transform test data\n",
    "print(\"\\nTransformed test df\")\n",
    "print(pd.DataFrame(ohe.transform(test_df), columns= ohe_cats))"
   ]
  },
  {
   "cell_type": "markdown",
   "metadata": {},
   "source": [
    "### LabelEncoder\n",
    "\n",
    "`sklearn`'s `LabelEncoder` will be used to transform our income variable from strings to 0s and 1s"
   ]
  },
  {
   "cell_type": "code",
   "execution_count": 31,
   "metadata": {},
   "outputs": [
    {
     "name": "stdout",
     "output_type": "stream",
     "text": [
      "Target Train Series\n",
      "0      >50K\n",
      "1      >50K\n",
      "2     <=50K\n",
      "3     <=50K\n",
      "4      >50K\n",
      "5      >50K\n",
      "6     <=50K\n",
      "7     <=50K\n",
      "8      >50K\n",
      "9      >50K\n",
      "dtype: object\n",
      "\n",
      "Target Test Series\n",
      "0     >50K\n",
      "1     >50K\n",
      "2     >50K\n",
      "3     >50K\n",
      "4     >50K\n",
      "dtype: object\n"
     ]
    }
   ],
   "source": [
    "# Create target Series\n",
    "target_train = pd.Series(np.random.choice(data['income'].unique(), size = 10))\n",
    "target_test = pd.Series(np.random.choice(data['income'].unique(), size = 5))\n",
    "print(\"Target Train Series\")\n",
    "print(target_train)\n",
    "\n",
    "print(\"\\nTarget Test Series\")\n",
    "print(target_test)"
   ]
  },
  {
   "cell_type": "code",
   "execution_count": 32,
   "metadata": {},
   "outputs": [
    {
     "name": "stdout",
     "output_type": "stream",
     "text": [
      "Transformed training values\n",
      "[1 1 0 0 1 1 0 0 1 1]\n",
      "\n",
      "Transformed test values\n",
      "[1 1 1 1 1]\n",
      "\n",
      "LabelEncoder `.classes_`\n",
      "[' <=50K' ' >50K']\n"
     ]
    }
   ],
   "source": [
    "# Instantiate encoder\n",
    "le = LabelEncoder()\n",
    "\n",
    "# Fit with training data\n",
    "le.fit(target_train)\n",
    "\n",
    "# Transform training and test data\n",
    "trans_train = le.transform(target_train)\n",
    "trans_test = le.transform(target_test)\n",
    "\n",
    "print(\"Transformed training values\")\n",
    "print(trans_train)\n",
    "\n",
    "print(\"\\nTransformed test values\")\n",
    "print(trans_test)\n",
    "\n",
    "print(\"\\nLabelEncoder `.classes_`\")\n",
    "print(le.classes_)"
   ]
  },
  {
   "cell_type": "markdown",
   "metadata": {},
   "source": [
    "### Define a custom preprocessing function\n",
    "\n",
    "Using the processes demonstrated above, a function is created to preprocess the census data. The function is then used to create a training and testing dataset"
   ]
  },
  {
   "cell_type": "code",
   "execution_count": 33,
   "metadata": {},
   "outputs": [],
   "source": [
    "def preprocess_census(X_train, X_test, y_train, y_test):\n",
    "\n",
    "    # Hardcode variables which need categorical encoding\n",
    "    to_encode = [\"workclass\", \"occupation\", \"sex\"]\n",
    "\n",
    "    # Find top categories in categorical columns\n",
    "    # Used for dropping majority class to prevent multi-colinearity\n",
    "    top_categories = []\n",
    "\n",
    "    for col in to_encode:\n",
    "        top_categories.append(X_train[col].value_counts().index[0])\n",
    "\n",
    "    # Create and fit one-hot encoder for categoricals\n",
    "    OHE = OneHotEncoder(sparse = False)\n",
    "    OHE.fit(X_train[to_encode])\n",
    "\n",
    "    # Create and fit Label encoder for target\n",
    "    LabEnc = LabelEncoder()\n",
    "    LabEnc.fit(y_train)\n",
    "\n",
    "    def create_encoded_df(X, to_encode = to_encode, OHE = OHE, top_categories = top_categories):\n",
    "        # Return columns which need encoding.\n",
    "        def return_encoded_cols(X, to_encode = to_encode, OHE = OHE, top_categories = top_categories):\n",
    "            \n",
    "            # Use onehotencoder to transform.\n",
    "            # Use \"categories\" to name\n",
    "            toRet = pd.DataFrame(OHE.transform(X[to_encode]), columns = np.concatenate(OHE.categories_))\n",
    "\n",
    "            # Drop top_categories and return\n",
    "            return toRet.drop(top_categories, axis = 1)\n",
    "\n",
    "        # create encoded columns\n",
    "        ret_cols = return_encoded_cols(X)\n",
    "\n",
    "        # Drop columns that were encoded\n",
    "        dr_enc = X.drop(to_encode, axis = 1)\n",
    "\n",
    "        # Concatenate values\n",
    "        # use index from original data\n",
    "        # use combined column names\n",
    "        return pd.DataFrame(np.concatenate([ret_cols.values, dr_enc.values],axis = 1),\n",
    "                            index = dr_enc.index,\n",
    "                            columns = list(ret_cols.columns) + list(dr_enc.columns))\n",
    "\n",
    "\n",
    "    def encode_target(y, LabEnc = LabEnc):\n",
    "        \n",
    "        # Use label encoder, and supply with original index\n",
    "        return pd.Series(LabEnc.transform(y), index= y.index)\n",
    "\n",
    "    return create_encoded_df(X_train), create_encoded_df(X_test), encode_target(y_train), encode_target(y_test)"
   ]
  },
  {
   "cell_type": "code",
   "execution_count": 35,
   "metadata": {},
   "outputs": [],
   "source": [
    "# Create training and testing sets; preprocess them.\n",
    "target = data['income']\n",
    "predictors = data.drop(\"income\", axis = 'columns')\n",
    "\n",
    "X_train, X_test, y_train, y_test = preprocess_census(*train_test_split(predictors, target, test_size = .2))"
   ]
  },
  {
   "cell_type": "markdown",
   "metadata": {},
   "source": [
    "### Fitting Models to Data  \n",
    "\n",
    "Creating predictions from your adaptive-boosted model."
   ]
  },
  {
   "cell_type": "code",
   "execution_count": 41,
   "metadata": {},
   "outputs": [
    {
     "name": "stdout",
     "output_type": "stream",
     "text": [
      "              precision    recall  f1-score   support\n",
      "\n",
      "           0       0.84      0.92      0.88      4940\n",
      "           1       0.64      0.46      0.54      1573\n",
      "\n",
      "    accuracy                           0.81      6513\n",
      "   macro avg       0.74      0.69      0.71      6513\n",
      "weighted avg       0.79      0.81      0.80      6513\n",
      "\n"
     ]
    }
   ],
   "source": [
    "d = simple_adaboost_fit(X_train.values.copy(), y_train.values.copy(), 50)\n",
    "preds = predict(X_test, d)\n",
    "print(classification_report(y_test,preds))"
   ]
  },
  {
   "cell_type": "markdown",
   "metadata": {},
   "source": [
    "# `sklearn` Implementation of Adaptive Boosting"
   ]
  },
  {
   "cell_type": "code",
   "execution_count": 40,
   "metadata": {},
   "outputs": [
    {
     "name": "stdout",
     "output_type": "stream",
     "text": [
      "Random Forest:\n",
      "\n",
      "              precision    recall  f1-score   support\n",
      "\n",
      "           0       0.84      0.88      0.86      4940\n",
      "           1       0.57      0.48      0.52      1573\n",
      "\n",
      "    accuracy                           0.79      6513\n",
      "   macro avg       0.70      0.68      0.69      6513\n",
      "weighted avg       0.78      0.79      0.78      6513\n",
      "\n",
      "\n",
      "AdaBoost:\n",
      "\n",
      "              precision    recall  f1-score   support\n",
      "\n",
      "           0       0.85      0.93      0.88      4940\n",
      "           1       0.67      0.47      0.55      1573\n",
      "\n",
      "    accuracy                           0.82      6513\n",
      "   macro avg       0.76      0.70      0.72      6513\n",
      "weighted avg       0.80      0.82      0.80      6513\n",
      "\n"
     ]
    }
   ],
   "source": [
    "RF = RandomForestClassifier(n_estimators = 50)\n",
    "RF.fit(X_train, y_train)\n",
    "\n",
    "print(\"Random Forest:\\n\")\n",
    "print(classification_report(y_test, RF.predict(X_test)))\n",
    "ABC = AdaBoostClassifier(n_estimators = 50)\n",
    "ABC.fit(X_train, y_train)\n",
    "print(\"\\nAdaBoost:\\n\")\n",
    "print(classification_report(y_test, ABC.predict(X_test)))"
   ]
  },
  {
   "cell_type": "markdown",
   "metadata": {},
   "source": [
    "The precision and recall of the your custom Adaptive Boosting are very similar to the `sklearn` adaboost.\n",
    "\n",
    "Notice the higher precision of the AdaBoost compared to the Random Forest"
   ]
  }
 ],
 "metadata": {
  "kernelspec": {
   "display_name": "Python 3",
   "language": "python",
   "name": "python3"
  },
  "language_info": {
   "codemirror_mode": {
    "name": "ipython",
    "version": 3
   },
   "file_extension": ".py",
   "mimetype": "text/x-python",
   "name": "python",
   "nbconvert_exporter": "python",
   "pygments_lexer": "ipython3",
   "version": "3.7.6"
  }
 },
 "nbformat": 4,
 "nbformat_minor": 4
}
